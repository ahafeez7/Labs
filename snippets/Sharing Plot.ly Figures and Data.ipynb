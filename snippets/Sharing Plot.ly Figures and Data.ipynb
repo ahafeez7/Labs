{
 "metadata": {
  "name": "",
  "signature": "sha256:72f4de06e3914e58bd68df70d4dbeba885e38dc74752ec64f14464ed65fef044"
 },
 "nbformat": 3,
 "nbformat_minor": 0,
 "worksheets": [
  {
   "cells": [
    {
     "cell_type": "code",
     "collapsed": false,
     "input": [
      "%matplotlib inline\n",
      "import json\n",
      "import urllib2\n",
      "import matplotlib.pyplot as plt"
     ],
     "language": "python",
     "metadata": {},
     "outputs": [],
     "prompt_number": 46
    },
    {
     "cell_type": "markdown",
     "metadata": {},
     "source": [
      "## Copy Front Matter from a *Research Page*\n",
      "\n",
      "Use the URL\n",
      "\n",
      "```\n",
      "http://materials-informatics-lab.github.io/2014/09/03/Plotly-Example.html\n",
      "```\n",
      "\n",
      "## JSON-ified Front Matter\n",
      "\n",
      "```YAML\n",
      "{\"layout\":\"default\",\"title\":\"Plot.ly Example\",\"author\":\"tonyfast\",\"tagline\":\"An example of Plot.ly embed\",\"tags\":[\"Examples\"],\"data\":{\"plotly\":{\"embed\":\"https://plot.ly/~TonyFast/4\",\"matlab\":\"https://plot.ly/~TonyFast/4.m\",\"python\":\"https://plot.ly/~TonyFast/4.py\",\"json\":\"https://plot.ly/~TonyFast/4.json\"}},\"references\":[\"https://plot.ly/api/\"],\"url\":\"/2014/09/03/Plotly-Example.html\",\"dir\":\"/2014/09/03\",\"date\":\"2014-09-03 00:00:00 -0400\",\"id\":\"/2014/09/03/Plotly-Example\",\"categories\":[]}\n",
      "```"
     ]
    },
    {
     "cell_type": "code",
     "collapsed": false,
     "input": [
      "# JSON-ified front matter as string\n",
      "s = '{\"layout\":\"default\",\"title\":\"Plot.ly Example\",\"author\":\"tonyfast\",\"tagline\":\"An example of Plot.ly embed\",\"tags\":[\"Examples\"],\"data\":{\"plotly\":{\"embed\":\"https://plot.ly/~TonyFast/4\",\"matlab\":\"https://plot.ly/~TonyFast/4.m\",\"python\":\"https://plot.ly/~TonyFast/4.py\",\"json\":\"https://plot.ly/~TonyFast/4.json\"}},\"references\":[\"https://plot.ly/api/\"],\"url\":\"/2014/09/03/Plotly-Example.html\",\"dir\":\"/2014/09/03\",\"date\":\"2014-09-03 00:00:00 -0400\",\"id\":\"/2014/09/03/Plotly-Example\",\"categories\":[]}'"
     ],
     "language": "python",
     "metadata": {},
     "outputs": [],
     "prompt_number": 36
    },
    {
     "cell_type": "code",
     "collapsed": false,
     "input": [
      "d = json.loads(s)"
     ],
     "language": "python",
     "metadata": {},
     "outputs": [],
     "prompt_number": 37
    },
    {
     "cell_type": "code",
     "collapsed": false,
     "input": [
      "f = urllib2.urlopen(d['data']['plotly']['json'])"
     ],
     "language": "python",
     "metadata": {},
     "outputs": [],
     "prompt_number": 38
    },
    {
     "cell_type": "code",
     "collapsed": false,
     "input": [
      "data = json.load(f)"
     ],
     "language": "python",
     "metadata": {},
     "outputs": [],
     "prompt_number": 39
    },
    {
     "cell_type": "code",
     "collapsed": false,
     "input": [
      "for values in data[\"data\"]:\n",
      "    values[\"x\"]\n",
      "    plt.plot(values[\"x\"],values[\"y\"],marker=\"o\")\n",
      "plt.title(\"From Plotly\")\n",
      "plt.show()\n",
      "    "
     ],
     "language": "python",
     "metadata": {},
     "outputs": [
      {
       "metadata": {},
       "output_type": "display_data",
       "png": "[encoded data removed]",
       "text": [
        "<matplotlib.figure.Figure at 0x1093c6510>"
       ]
      }
     ],
     "prompt_number": 61
    },
    {
     "cell_type": "code",
     "collapsed": false,
     "input": [
      "# Integrated Visualization\n",
      "from IPython.display import HTML"
     ],
     "language": "python",
     "metadata": {},
     "outputs": [],
     "prompt_number": 62
    },
    {
     "cell_type": "code",
     "collapsed": false,
     "input": [
      "HTML('<iframe src=\"'+d[\"data\"][\"plotly\"][\"embed\"]+'.embed\"'+' width=700 height=500/>')"
     ],
     "language": "python",
     "metadata": {},
     "outputs": [
      {
       "html": [
        "<iframe src=\"https://plot.ly/~TonyFast/4.embed\" width=700 height=500/>"
       ],
       "metadata": {},
       "output_type": "pyout",
       "prompt_number": 73,
       "text": [
        "<IPython.core.display.HTML at 0x1096079d0>"
       ]
      }
     ],
     "prompt_number": 73
    },
    {
     "cell_type": "code",
     "collapsed": false,
     "input": [],
     "language": "python",
     "metadata": {},
     "outputs": [
      {
       "metadata": {},
       "output_type": "pyout",
       "prompt_number": 69,
       "text": [
        "u'<iframe src=\"https://plot.ly/~TonyFast/4.embed\"/>'"
       ]
      }
     ],
     "prompt_number": 69
    },
    {
     "cell_type": "code",
     "collapsed": false,
     "input": [],
     "language": "python",
     "metadata": {},
     "outputs": []
    }
   ],
   "metadata": {}
  }
 ]
}